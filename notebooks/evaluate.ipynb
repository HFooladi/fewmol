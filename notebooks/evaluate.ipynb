{
 "cells": [
  {
   "cell_type": "code",
   "execution_count": null,
   "metadata": {},
   "outputs": [],
   "source": [
    "import os\n",
    "import os.path as osp\n",
    "import sys\n",
    "import json\n",
    "\n",
    "from tqdm import tqdm\n",
    "import argparse\n",
    "import time\n",
    "import numpy as np\n",
    "import pickle\n",
    "import pandas as pd\n",
    "from typing import List, Dict\n",
    "\n",
    "import torch\n",
    "from torch_geometric.loader import DataLoader\n",
    "from torch_geometric.data import Batch\n",
    "import torch.optim as optim\n",
    "import torch.nn.functional as F\n",
    "\n",
    "CHECKOUT_PATH = os.path.join(os.environ[\"HOME\"], \"Documents\", \"hfooladi\", \"TLMOL\", \"fewmol\")\n",
    "os.chdir(CHECKOUT_PATH)\n",
    "sys.path.insert(0, CHECKOUT_PATH)\n",
    "\n",
    "from model.gnn import GNN, reset_weights\n",
    "from torch.utils.data import random_split\n",
    "from sklearn.model_selection import KFold\n",
    "\n",
    "from fewmol.data.dataset import FSMOLDataset\n",
    "from fewmol.data.evaluate import Evaluator\n",
    "from fewmol.utils.io_utils import SaveBestModel, save_model, save_plots\n",
    "from fewmol.utils.distance_utils import (\n",
    "    select_training_assays,\n",
    "    select_test_assay,\n",
    "    create_distance_dataframe,\n",
    "    normalize,\n",
    ")"
   ]
  }
 ],
 "metadata": {
  "language_info": {
   "name": "python"
  },
  "orig_nbformat": 4
 },
 "nbformat": 4,
 "nbformat_minor": 2
}
